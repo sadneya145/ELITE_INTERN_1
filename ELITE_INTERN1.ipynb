{
 "cells": [
  {
   "cell_type": "markdown",
   "metadata": {},
   "source": [
    "**Using Apriori algorithm**"
   ]
  },
  {
   "cell_type": "code",
   "execution_count": 1,
   "metadata": {},
   "outputs": [
    {
     "data": {
      "text/html": [
       "<div>\n",
       "<style scoped>\n",
       "    .dataframe tbody tr th:only-of-type {\n",
       "        vertical-align: middle;\n",
       "    }\n",
       "\n",
       "    .dataframe tbody tr th {\n",
       "        vertical-align: top;\n",
       "    }\n",
       "\n",
       "    .dataframe thead th {\n",
       "        text-align: right;\n",
       "    }\n",
       "</style>\n",
       "<table border=\"1\" class=\"dataframe\">\n",
       "  <thead>\n",
       "    <tr style=\"text-align: right;\">\n",
       "      <th></th>\n",
       "      <th>Area Code</th>\n",
       "      <th>State</th>\n",
       "      <th>Market</th>\n",
       "      <th>Market Size</th>\n",
       "      <th>Profit</th>\n",
       "      <th>Margin</th>\n",
       "      <th>Sales</th>\n",
       "      <th>COGS</th>\n",
       "      <th>Total Expenses</th>\n",
       "      <th>Marketing</th>\n",
       "      <th>Inventory</th>\n",
       "      <th>Budget Profit</th>\n",
       "      <th>Budget COGS</th>\n",
       "      <th>Budget Margin</th>\n",
       "      <th>Budget Sales</th>\n",
       "      <th>ProductId</th>\n",
       "      <th>Date</th>\n",
       "      <th>Product Type</th>\n",
       "      <th>Product</th>\n",
       "      <th>Type</th>\n",
       "    </tr>\n",
       "  </thead>\n",
       "  <tbody>\n",
       "    <tr>\n",
       "      <th>0</th>\n",
       "      <td>203</td>\n",
       "      <td>Connecticut</td>\n",
       "      <td>East</td>\n",
       "      <td>Small Market</td>\n",
       "      <td>107.0</td>\n",
       "      <td>176.0</td>\n",
       "      <td>292.0</td>\n",
       "      <td>116.0</td>\n",
       "      <td>69.0</td>\n",
       "      <td>38.0</td>\n",
       "      <td>962.0</td>\n",
       "      <td>110.0</td>\n",
       "      <td>110.0</td>\n",
       "      <td>160.0</td>\n",
       "      <td>270.0</td>\n",
       "      <td>2</td>\n",
       "      <td>04/01/10 00:00:00</td>\n",
       "      <td>Coffee</td>\n",
       "      <td>Columbian</td>\n",
       "      <td>Regular</td>\n",
       "    </tr>\n",
       "    <tr>\n",
       "      <th>1</th>\n",
       "      <td>203</td>\n",
       "      <td>Connecticut</td>\n",
       "      <td>East</td>\n",
       "      <td>Small Market</td>\n",
       "      <td>75.0</td>\n",
       "      <td>135.0</td>\n",
       "      <td>225.0</td>\n",
       "      <td>90.0</td>\n",
       "      <td>60.0</td>\n",
       "      <td>29.0</td>\n",
       "      <td>1148.0</td>\n",
       "      <td>90.0</td>\n",
       "      <td>80.0</td>\n",
       "      <td>130.0</td>\n",
       "      <td>210.0</td>\n",
       "      <td>2</td>\n",
       "      <td>07/01/10 00:00:00</td>\n",
       "      <td>Coffee</td>\n",
       "      <td>Columbian</td>\n",
       "      <td>Regular</td>\n",
       "    </tr>\n",
       "    <tr>\n",
       "      <th>2</th>\n",
       "      <td>203</td>\n",
       "      <td>Connecticut</td>\n",
       "      <td>East</td>\n",
       "      <td>Small Market</td>\n",
       "      <td>122.0</td>\n",
       "      <td>195.0</td>\n",
       "      <td>325.0</td>\n",
       "      <td>130.0</td>\n",
       "      <td>73.0</td>\n",
       "      <td>42.0</td>\n",
       "      <td>1134.0</td>\n",
       "      <td>130.0</td>\n",
       "      <td>110.0</td>\n",
       "      <td>180.0</td>\n",
       "      <td>290.0</td>\n",
       "      <td>2</td>\n",
       "      <td>11/01/10 00:00:00</td>\n",
       "      <td>Coffee</td>\n",
       "      <td>Columbian</td>\n",
       "      <td>Regular</td>\n",
       "    </tr>\n",
       "    <tr>\n",
       "      <th>3</th>\n",
       "      <td>203</td>\n",
       "      <td>Connecticut</td>\n",
       "      <td>East</td>\n",
       "      <td>Small Market</td>\n",
       "      <td>105.0</td>\n",
       "      <td>174.0</td>\n",
       "      <td>289.0</td>\n",
       "      <td>115.0</td>\n",
       "      <td>69.0</td>\n",
       "      <td>37.0</td>\n",
       "      <td>1166.0</td>\n",
       "      <td>110.0</td>\n",
       "      <td>100.0</td>\n",
       "      <td>160.0</td>\n",
       "      <td>260.0</td>\n",
       "      <td>2</td>\n",
       "      <td>12/01/10 00:00:00</td>\n",
       "      <td>Coffee</td>\n",
       "      <td>Columbian</td>\n",
       "      <td>Regular</td>\n",
       "    </tr>\n",
       "    <tr>\n",
       "      <th>4</th>\n",
       "      <td>203</td>\n",
       "      <td>Connecticut</td>\n",
       "      <td>East</td>\n",
       "      <td>Small Market</td>\n",
       "      <td>104.0</td>\n",
       "      <td>135.0</td>\n",
       "      <td>223.0</td>\n",
       "      <td>90.0</td>\n",
       "      <td>56.0</td>\n",
       "      <td>29.0</td>\n",
       "      <td>1148.0</td>\n",
       "      <td>90.0</td>\n",
       "      <td>80.0</td>\n",
       "      <td>130.0</td>\n",
       "      <td>210.0</td>\n",
       "      <td>2</td>\n",
       "      <td>07/01/11 00:00:00</td>\n",
       "      <td>Coffee</td>\n",
       "      <td>Columbian</td>\n",
       "      <td>Regular</td>\n",
       "    </tr>\n",
       "  </tbody>\n",
       "</table>\n",
       "</div>"
      ],
      "text/plain": [
       "   Area Code        State Market   Market Size  Profit  Margin  Sales   COGS  \\\n",
       "0        203  Connecticut   East  Small Market   107.0   176.0  292.0  116.0   \n",
       "1        203  Connecticut   East  Small Market    75.0   135.0  225.0   90.0   \n",
       "2        203  Connecticut   East  Small Market   122.0   195.0  325.0  130.0   \n",
       "3        203  Connecticut   East  Small Market   105.0   174.0  289.0  115.0   \n",
       "4        203  Connecticut   East  Small Market   104.0   135.0  223.0   90.0   \n",
       "\n",
       "   Total Expenses  Marketing  Inventory  Budget Profit  Budget COGS  \\\n",
       "0            69.0       38.0      962.0          110.0        110.0   \n",
       "1            60.0       29.0     1148.0           90.0         80.0   \n",
       "2            73.0       42.0     1134.0          130.0        110.0   \n",
       "3            69.0       37.0     1166.0          110.0        100.0   \n",
       "4            56.0       29.0     1148.0           90.0         80.0   \n",
       "\n",
       "   Budget Margin  Budget Sales  ProductId               Date Product Type  \\\n",
       "0          160.0         270.0          2  04/01/10 00:00:00       Coffee   \n",
       "1          130.0         210.0          2  07/01/10 00:00:00       Coffee   \n",
       "2          180.0         290.0          2  11/01/10 00:00:00       Coffee   \n",
       "3          160.0         260.0          2  12/01/10 00:00:00       Coffee   \n",
       "4          130.0         210.0          2  07/01/11 00:00:00       Coffee   \n",
       "\n",
       "     Product     Type  \n",
       "0  Columbian  Regular  \n",
       "1  Columbian  Regular  \n",
       "2  Columbian  Regular  \n",
       "3  Columbian  Regular  \n",
       "4  Columbian  Regular  "
      ]
     },
     "execution_count": 1,
     "metadata": {},
     "output_type": "execute_result"
    }
   ],
   "source": [
    "import pandas as pd\n",
    "data= pd.read_csv('C:/Users/Sadneya/Downloads/sales.csv') #import dataset\n",
    "data.head()"
   ]
  },
  {
   "cell_type": "code",
   "execution_count": 2,
   "metadata": {},
   "outputs": [],
   "source": [
    "#convert to dataframe\n",
    "df = pd.DataFrame(data)"
   ]
  },
  {
   "cell_type": "code",
   "execution_count": 3,
   "metadata": {},
   "outputs": [
    {
     "data": {
      "text/html": [
       "<div>\n",
       "<style scoped>\n",
       "    .dataframe tbody tr th:only-of-type {\n",
       "        vertical-align: middle;\n",
       "    }\n",
       "\n",
       "    .dataframe tbody tr th {\n",
       "        vertical-align: top;\n",
       "    }\n",
       "\n",
       "    .dataframe thead th {\n",
       "        text-align: right;\n",
       "    }\n",
       "</style>\n",
       "<table border=\"1\" class=\"dataframe\">\n",
       "  <thead>\n",
       "    <tr style=\"text-align: right;\">\n",
       "      <th></th>\n",
       "      <th>Area Code</th>\n",
       "      <th>Profit</th>\n",
       "      <th>Margin</th>\n",
       "      <th>Sales</th>\n",
       "      <th>COGS</th>\n",
       "      <th>Total Expenses</th>\n",
       "      <th>Marketing</th>\n",
       "      <th>Inventory</th>\n",
       "      <th>Budget Profit</th>\n",
       "      <th>Budget COGS</th>\n",
       "      <th>Budget Margin</th>\n",
       "      <th>Budget Sales</th>\n",
       "      <th>ProductId</th>\n",
       "    </tr>\n",
       "  </thead>\n",
       "  <tbody>\n",
       "    <tr>\n",
       "      <th>count</th>\n",
       "      <td>4248.000000</td>\n",
       "      <td>4248.000000</td>\n",
       "      <td>4248.000000</td>\n",
       "      <td>4248.000000</td>\n",
       "      <td>4248.000000</td>\n",
       "      <td>4248.000000</td>\n",
       "      <td>4248.000000</td>\n",
       "      <td>4248.000000</td>\n",
       "      <td>4248.000000</td>\n",
       "      <td>4248.000000</td>\n",
       "      <td>4248.000000</td>\n",
       "      <td>4248.000000</td>\n",
       "      <td>4248.000000</td>\n",
       "    </tr>\n",
       "    <tr>\n",
       "      <th>mean</th>\n",
       "      <td>582.278013</td>\n",
       "      <td>61.097693</td>\n",
       "      <td>104.293315</td>\n",
       "      <td>192.987524</td>\n",
       "      <td>84.433145</td>\n",
       "      <td>54.063559</td>\n",
       "      <td>31.185028</td>\n",
       "      <td>749.381356</td>\n",
       "      <td>60.913371</td>\n",
       "      <td>74.830508</td>\n",
       "      <td>100.819209</td>\n",
       "      <td>175.649718</td>\n",
       "      <td>6.887006</td>\n",
       "    </tr>\n",
       "    <tr>\n",
       "      <th>std</th>\n",
       "      <td>221.140310</td>\n",
       "      <td>101.708546</td>\n",
       "      <td>94.342522</td>\n",
       "      <td>151.133127</td>\n",
       "      <td>67.249769</td>\n",
       "      <td>32.352598</td>\n",
       "      <td>27.023264</td>\n",
       "      <td>661.031896</td>\n",
       "      <td>79.546123</td>\n",
       "      <td>66.238145</td>\n",
       "      <td>92.602725</td>\n",
       "      <td>148.891522</td>\n",
       "      <td>3.664072</td>\n",
       "    </tr>\n",
       "    <tr>\n",
       "      <th>min</th>\n",
       "      <td>203.000000</td>\n",
       "      <td>-638.000000</td>\n",
       "      <td>-302.000000</td>\n",
       "      <td>17.000000</td>\n",
       "      <td>0.000000</td>\n",
       "      <td>10.000000</td>\n",
       "      <td>0.000000</td>\n",
       "      <td>-3534.000000</td>\n",
       "      <td>-320.000000</td>\n",
       "      <td>0.000000</td>\n",
       "      <td>-210.000000</td>\n",
       "      <td>0.000000</td>\n",
       "      <td>1.000000</td>\n",
       "    </tr>\n",
       "    <tr>\n",
       "      <th>25%</th>\n",
       "      <td>417.000000</td>\n",
       "      <td>17.000000</td>\n",
       "      <td>52.750000</td>\n",
       "      <td>100.000000</td>\n",
       "      <td>43.000000</td>\n",
       "      <td>33.000000</td>\n",
       "      <td>13.000000</td>\n",
       "      <td>432.000000</td>\n",
       "      <td>20.000000</td>\n",
       "      <td>30.000000</td>\n",
       "      <td>50.000000</td>\n",
       "      <td>80.000000</td>\n",
       "      <td>4.000000</td>\n",
       "    </tr>\n",
       "    <tr>\n",
       "      <th>50%</th>\n",
       "      <td>573.000000</td>\n",
       "      <td>40.000000</td>\n",
       "      <td>76.000000</td>\n",
       "      <td>138.000000</td>\n",
       "      <td>60.000000</td>\n",
       "      <td>46.000000</td>\n",
       "      <td>22.000000</td>\n",
       "      <td>619.000000</td>\n",
       "      <td>40.000000</td>\n",
       "      <td>50.000000</td>\n",
       "      <td>70.000000</td>\n",
       "      <td>130.000000</td>\n",
       "      <td>6.000000</td>\n",
       "    </tr>\n",
       "    <tr>\n",
       "      <th>75%</th>\n",
       "      <td>772.000000</td>\n",
       "      <td>92.000000</td>\n",
       "      <td>132.000000</td>\n",
       "      <td>230.000000</td>\n",
       "      <td>100.000000</td>\n",
       "      <td>65.000000</td>\n",
       "      <td>39.000000</td>\n",
       "      <td>910.500000</td>\n",
       "      <td>80.000000</td>\n",
       "      <td>90.000000</td>\n",
       "      <td>130.000000</td>\n",
       "      <td>210.000000</td>\n",
       "      <td>10.000000</td>\n",
       "    </tr>\n",
       "    <tr>\n",
       "      <th>max</th>\n",
       "      <td>985.000000</td>\n",
       "      <td>778.000000</td>\n",
       "      <td>613.000000</td>\n",
       "      <td>912.000000</td>\n",
       "      <td>364.000000</td>\n",
       "      <td>190.000000</td>\n",
       "      <td>156.000000</td>\n",
       "      <td>8252.000000</td>\n",
       "      <td>560.000000</td>\n",
       "      <td>450.000000</td>\n",
       "      <td>690.000000</td>\n",
       "      <td>1140.000000</td>\n",
       "      <td>13.000000</td>\n",
       "    </tr>\n",
       "  </tbody>\n",
       "</table>\n",
       "</div>"
      ],
      "text/plain": [
       "         Area Code       Profit       Margin        Sales         COGS  \\\n",
       "count  4248.000000  4248.000000  4248.000000  4248.000000  4248.000000   \n",
       "mean    582.278013    61.097693   104.293315   192.987524    84.433145   \n",
       "std     221.140310   101.708546    94.342522   151.133127    67.249769   \n",
       "min     203.000000  -638.000000  -302.000000    17.000000     0.000000   \n",
       "25%     417.000000    17.000000    52.750000   100.000000    43.000000   \n",
       "50%     573.000000    40.000000    76.000000   138.000000    60.000000   \n",
       "75%     772.000000    92.000000   132.000000   230.000000   100.000000   \n",
       "max     985.000000   778.000000   613.000000   912.000000   364.000000   \n",
       "\n",
       "       Total Expenses    Marketing    Inventory  Budget Profit  Budget COGS  \\\n",
       "count     4248.000000  4248.000000  4248.000000    4248.000000  4248.000000   \n",
       "mean        54.063559    31.185028   749.381356      60.913371    74.830508   \n",
       "std         32.352598    27.023264   661.031896      79.546123    66.238145   \n",
       "min         10.000000     0.000000 -3534.000000    -320.000000     0.000000   \n",
       "25%         33.000000    13.000000   432.000000      20.000000    30.000000   \n",
       "50%         46.000000    22.000000   619.000000      40.000000    50.000000   \n",
       "75%         65.000000    39.000000   910.500000      80.000000    90.000000   \n",
       "max        190.000000   156.000000  8252.000000     560.000000   450.000000   \n",
       "\n",
       "       Budget Margin  Budget Sales    ProductId  \n",
       "count    4248.000000   4248.000000  4248.000000  \n",
       "mean      100.819209    175.649718     6.887006  \n",
       "std        92.602725    148.891522     3.664072  \n",
       "min      -210.000000      0.000000     1.000000  \n",
       "25%        50.000000     80.000000     4.000000  \n",
       "50%        70.000000    130.000000     6.000000  \n",
       "75%       130.000000    210.000000    10.000000  \n",
       "max       690.000000   1140.000000    13.000000  "
      ]
     },
     "execution_count": 3,
     "metadata": {},
     "output_type": "execute_result"
    }
   ],
   "source": [
    "df.describe()"
   ]
  },
  {
   "cell_type": "code",
   "execution_count": 4,
   "metadata": {},
   "outputs": [
    {
     "name": "stdout",
     "output_type": "stream",
     "text": [
      "<class 'pandas.core.frame.DataFrame'>\n",
      "RangeIndex: 4248 entries, 0 to 4247\n",
      "Data columns (total 20 columns):\n",
      " #   Column          Non-Null Count  Dtype  \n",
      "---  ------          --------------  -----  \n",
      " 0   Area Code       4248 non-null   int64  \n",
      " 1   State           4248 non-null   object \n",
      " 2   Market          4248 non-null   object \n",
      " 3   Market Size     4248 non-null   object \n",
      " 4   Profit          4248 non-null   float64\n",
      " 5   Margin          4248 non-null   float64\n",
      " 6   Sales           4248 non-null   float64\n",
      " 7   COGS            4248 non-null   float64\n",
      " 8   Total Expenses  4248 non-null   float64\n",
      " 9   Marketing       4248 non-null   float64\n",
      " 10  Inventory       4248 non-null   float64\n",
      " 11  Budget Profit   4248 non-null   float64\n",
      " 12  Budget COGS     4248 non-null   float64\n",
      " 13  Budget Margin   4248 non-null   float64\n",
      " 14  Budget Sales    4248 non-null   float64\n",
      " 15  ProductId       4248 non-null   int64  \n",
      " 16  Date            4248 non-null   object \n",
      " 17  Product Type    4248 non-null   object \n",
      " 18  Product         4248 non-null   object \n",
      " 19  Type            4248 non-null   object \n",
      "dtypes: float64(11), int64(2), object(7)\n",
      "memory usage: 663.9+ KB\n"
     ]
    }
   ],
   "source": [
    "df.info()\n",
    "#so we dont have null values"
   ]
  },
  {
   "cell_type": "code",
   "execution_count": 5,
   "metadata": {},
   "outputs": [
    {
     "data": {
      "text/plain": [
       "Index(['Area Code', 'State', 'Market', 'Market Size', 'Profit', 'Margin',\n",
       "       'Sales', 'COGS', 'Total Expenses', 'Marketing', 'Inventory',\n",
       "       'Budget Profit', 'Budget COGS', 'Budget Margin', 'Budget Sales',\n",
       "       'ProductId', 'Date', 'Product Type', 'Product', 'Type'],\n",
       "      dtype='object')"
      ]
     },
     "execution_count": 5,
     "metadata": {},
     "output_type": "execute_result"
    }
   ],
   "source": [
    "# Exploring the columns of the data \n",
    "df.columns "
   ]
  },
  {
   "cell_type": "code",
   "execution_count": 6,
   "metadata": {},
   "outputs": [
    {
     "data": {
      "text/plain": [
       "array(['Connecticut', 'Washington', 'California', 'Texas', 'New York',\n",
       "       'Ohio', 'Illinois', 'Louisiana', 'Florida', 'Wisconsin',\n",
       "       'Colorado', 'Missouri', 'Iowa', 'Massachusetts', 'Oklahoma',\n",
       "       'Utah', 'Oregon', 'New Mexico', 'New Hampshire', 'Nevada'],\n",
       "      dtype=object)"
      ]
     },
     "execution_count": 6,
     "metadata": {},
     "output_type": "execute_result"
    }
   ],
   "source": [
    "# Exploring the different regions of transactions \n",
    "df.State.unique() "
   ]
  },
  {
   "cell_type": "code",
   "execution_count": 7,
   "metadata": {},
   "outputs": [],
   "source": [
    "# Step 1: Preprocessing\n",
    "# Select relevant columns for market basket analysis (e.g., Product or Product Type)\n",
    "# Group transactions by 'Market' or another relevant identifier (e.g., Invoice ID, Transaction ID)\n",
    "basket = df.groupby(['Market', 'Product'])['Sales'].sum().unstack().reset_index().fillna(0)"
   ]
  },
  {
   "cell_type": "code",
   "execution_count": 8,
   "metadata": {},
   "outputs": [],
   "source": [
    "# Convert sales data to binary format (1 if purchased, 0 if not)\n",
    "basket_encoded = basket.set_index('Market')\n",
    "basket_encoded = basket_encoded.map(lambda x: 1 if x > 0 else 0)"
   ]
  },
  {
   "cell_type": "code",
   "execution_count": 9,
   "metadata": {},
   "outputs": [],
   "source": [
    "from mlxtend.frequent_patterns import apriori, association_rules"
   ]
  },
  {
   "cell_type": "code",
   "execution_count": 10,
   "metadata": {},
   "outputs": [],
   "source": [
    "# Ensure all values in the DataFrame are either True or False\n",
    "basket_encoded = basket_encoded.astype(bool)\n",
    "# Step 2: Apply Apriori\n",
    "# Minimum support is set to 0.01 (adjust as per your requirements)\n",
    "frequent_itemsets_1 = apriori(basket_encoded, min_support=0.05, use_colnames=True)"
   ]
  },
  {
   "cell_type": "code",
   "execution_count": 11,
   "metadata": {},
   "outputs": [
    {
     "name": "stdout",
     "output_type": "stream",
     "text": [
      "Frequent Itemsets:\n",
      "      support                                           itemsets\n",
      "0        0.75                                         (Amaretto)\n",
      "1        0.50                                      (Caffe Latte)\n",
      "2        1.00                                      (Caffe Mocha)\n",
      "3        1.00                                        (Chamomile)\n",
      "4        1.00                                        (Columbian)\n",
      "...       ...                                                ...\n",
      "6138     0.25  (Darjeeling, Decaf Irish Cream, Green Tea, Min...\n",
      "6139     0.25  (Darjeeling, Decaf Irish Cream, Caffe Latte, G...\n",
      "6140     0.25  (Darjeeling, Decaf Irish Cream, Green Tea, Min...\n",
      "6141     0.25  (Darjeeling, Decaf Irish Cream, Caffe Latte, G...\n",
      "6142     0.25  (Darjeeling, Decaf Irish Cream, Green Tea, Min...\n",
      "\n",
      "[6143 rows x 2 columns]\n"
     ]
    }
   ],
   "source": [
    "# Display frequent itemsets\n",
    "print(\"Frequent Itemsets:\")\n",
    "print(frequent_itemsets_1)"
   ]
  },
  {
   "cell_type": "code",
   "execution_count": 12,
   "metadata": {},
   "outputs": [
    {
     "name": "stderr",
     "output_type": "stream",
     "text": [
      "c:\\Users\\Sadneya\\AppData\\Local\\Programs\\Python\\Python312\\Lib\\site-packages\\mlxtend\\frequent_patterns\\association_rules.py:182: RuntimeWarning: invalid value encountered in divide\n",
      "  cert_metric = np.where(certainty_denom == 0, 0, certainty_num / certainty_denom)\n"
     ]
    },
    {
     "name": "stdout",
     "output_type": "stream",
     "text": [
      "     antecedents   consequents  antecedent support  consequent support  \\\n",
      "6     (Amaretto)  (Darjeeling)                0.75                0.75   \n",
      "7   (Darjeeling)    (Amaretto)                0.75                0.75   \n",
      "12    (Amaretto)   (Earl Grey)                0.75                0.75   \n",
      "13   (Earl Grey)    (Amaretto)                0.75                0.75   \n",
      "14    (Amaretto)   (Green Tea)                0.75                0.75   \n",
      "\n",
      "    support  confidence      lift  representativity  leverage  conviction  \\\n",
      "6      0.75         1.0  1.333333               1.0    0.1875         inf   \n",
      "7      0.75         1.0  1.333333               1.0    0.1875         inf   \n",
      "12     0.75         1.0  1.333333               1.0    0.1875         inf   \n",
      "13     0.75         1.0  1.333333               1.0    0.1875         inf   \n",
      "14     0.75         1.0  1.333333               1.0    0.1875         inf   \n",
      "\n",
      "    zhangs_metric  jaccard  certainty  kulczynski  \n",
      "6             1.0      1.0        1.0         1.0  \n",
      "7             1.0      1.0        1.0         1.0  \n",
      "12            1.0      1.0        1.0         1.0  \n",
      "13            1.0      1.0        1.0         1.0  \n",
      "14            1.0      1.0        1.0         1.0  \n"
     ]
    }
   ],
   "source": [
    "rules_1 = association_rules(frequent_itemsets_1, num_itemsets=10, metric=\"lift\", min_threshold=1)\n",
    "\n",
    "rules_1 = rules_1.sort_values(['confidence', 'lift'], ascending=[False, False])\n",
    "\n",
    "print(rules_1.head())"
   ]
  },
  {
   "cell_type": "markdown",
   "metadata": {},
   "source": [
    "all the rules in the output have:\n",
    "\n",
    "- **Confidence**: 1.0, indicating that the antecedents always lead to the consequents.\n",
    "- **Lift**: 1.333333, suggesting that the rule is more likely to occur than by chance.\n",
    "- **Support**: 0.75, meaning that 75% of the transactions contain both the antecedent and consequent.\n",
    "- **Leverage**: 0.1875, which reflects how much more likely the rule is compared to a random rule.\n",
    "- **Conviction**: Infinite, which is common when the rule has a confidence of 1.0 (it means the antecedent strongly implies the consequent)."
   ]
  },
  {
   "cell_type": "code",
   "execution_count": 13,
   "metadata": {},
   "outputs": [
    {
     "data": {
      "image/png": "[encoded data removed]",
      "text/plain": [
       "<Figure size 1000x600 with 2 Axes>"
      ]
     },
     "metadata": {},
     "output_type": "display_data"
    }
   ],
   "source": [
    "import seaborn as sns\n",
    "import matplotlib.pyplot as plt\n",
    "# Select relevant columns for heatmap\n",
    "metrics = rules_1[['confidence', 'lift', 'support', 'leverage']]\n",
    "\n",
    "# Plot the heatmap\n",
    "plt.figure(figsize=(10, 6))\n",
    "sns.heatmap(metrics.corr(), annot=True, cmap='coolwarm', fmt='.2f', linewidths=0.5)\n",
    "plt.title('Correlation Heatmap of Rule Metrics')\n",
    "plt.show()\n"
   ]
  },
  {
   "cell_type": "markdown",
   "metadata": {},
   "source": [
    "**Using FP-Growth Algorithm**"
   ]
  },
  {
   "cell_type": "code",
   "execution_count": 14,
   "metadata": {},
   "outputs": [],
   "source": [
    "from mlxtend.frequent_patterns import fpgrowth"
   ]
  },
  {
   "cell_type": "code",
   "execution_count": 15,
   "metadata": {},
   "outputs": [
    {
     "name": "stdout",
     "output_type": "stream",
     "text": [
      "      support                                           itemsets\n",
      "0        1.00                                            (Lemon)\n",
      "1        1.00                                (Decaf Irish Cream)\n",
      "2        1.00                                   (Decaf Espresso)\n",
      "3        1.00                                        (Columbian)\n",
      "4        1.00                                        (Chamomile)\n",
      "...       ...                                                ...\n",
      "2042     0.75  (Darjeeling, Decaf Irish Cream, Green Tea, Min...\n",
      "2043     0.75  (Darjeeling, Decaf Irish Cream, Green Tea, Min...\n",
      "2044     0.75  (Darjeeling, Green Tea, Mint, Lemon, Columbian...\n",
      "2045     0.75  (Darjeeling, Decaf Irish Cream, Green Tea, Min...\n",
      "2046     0.75  (Darjeeling, Decaf Irish Cream, Green Tea, Min...\n",
      "\n",
      "[2047 rows x 2 columns]\n",
      "                antecedents  \\\n",
      "0       (Decaf Irish Cream)   \n",
      "1                   (Lemon)   \n",
      "2          (Decaf Espresso)   \n",
      "3                   (Lemon)   \n",
      "4                   (Lemon)   \n",
      "...                     ...   \n",
      "173047     (Decaf Espresso)   \n",
      "173048          (Earl Grey)   \n",
      "173049        (Caffe Mocha)   \n",
      "173050           (Amaretto)   \n",
      "173051          (Chamomile)   \n",
      "\n",
      "                                              consequents  antecedent support  \\\n",
      "0                                                 (Lemon)                1.00   \n",
      "1                                     (Decaf Irish Cream)                1.00   \n",
      "2                                                 (Lemon)                1.00   \n",
      "3                                        (Decaf Espresso)                1.00   \n",
      "4                                             (Columbian)                1.00   \n",
      "...                                                   ...                 ...   \n",
      "173047  (Darjeeling, Decaf Irish Cream, Green Tea, Min...                1.00   \n",
      "173048  (Darjeeling, Decaf Irish Cream, Green Tea, Min...                0.75   \n",
      "173049  (Darjeeling, Decaf Irish Cream, Green Tea, Min...                1.00   \n",
      "173050  (Darjeeling, Decaf Irish Cream, Green Tea, Min...                0.75   \n",
      "173051  (Darjeeling, Decaf Irish Cream, Green Tea, Min...                1.00   \n",
      "\n",
      "        consequent support  support  confidence      lift  representativity  \\\n",
      "0                     1.00     1.00        1.00  1.000000               1.0   \n",
      "1                     1.00     1.00        1.00  1.000000               1.0   \n",
      "2                     1.00     1.00        1.00  1.000000               1.0   \n",
      "3                     1.00     1.00        1.00  1.000000               1.0   \n",
      "4                     1.00     1.00        1.00  1.000000               1.0   \n",
      "...                    ...      ...         ...       ...               ...   \n",
      "173047                0.75     0.75        0.75  1.000000               1.0   \n",
      "173048                0.75     0.75        1.00  1.333333               1.0   \n",
      "173049                0.75     0.75        0.75  1.000000               1.0   \n",
      "173050                0.75     0.75        1.00  1.333333               1.0   \n",
      "173051                0.75     0.75        0.75  1.000000               1.0   \n",
      "\n",
      "        leverage  conviction  zhangs_metric  jaccard  certainty  kulczynski  \n",
      "0         0.0000         inf            0.0     1.00        0.0       1.000  \n",
      "1         0.0000         inf            0.0     1.00        0.0       1.000  \n",
      "2         0.0000         inf            0.0     1.00        0.0       1.000  \n",
      "3         0.0000         inf            0.0     1.00        0.0       1.000  \n",
      "4         0.0000         inf            0.0     1.00        0.0       1.000  \n",
      "...          ...         ...            ...      ...        ...         ...  \n",
      "173047    0.0000         1.0            0.0     0.75        0.0       0.875  \n",
      "173048    0.1875         inf            1.0     1.00        1.0       1.000  \n",
      "173049    0.0000         1.0            0.0     0.75        0.0       0.875  \n",
      "173050    0.1875         inf            1.0     1.00        1.0       1.000  \n",
      "173051    0.0000         1.0            0.0     0.75        0.0       0.875  \n",
      "\n",
      "[173052 rows x 14 columns]\n"
     ]
    },
    {
     "name": "stderr",
     "output_type": "stream",
     "text": [
      "c:\\Users\\Sadneya\\AppData\\Local\\Programs\\Python\\Python312\\Lib\\site-packages\\mlxtend\\frequent_patterns\\association_rules.py:182: RuntimeWarning: invalid value encountered in divide\n",
      "  cert_metric = np.where(certainty_denom == 0, 0, certainty_num / certainty_denom)\n"
     ]
    }
   ],
   "source": [
    "# Apply FP-Growth\n",
    "frequent_itemsets_2 = fpgrowth(basket_encoded, min_support=0.6, use_colnames=True)\n",
    "print(frequent_itemsets_2)\n",
    "\n",
    "# Generate association rules\n",
    "rules_2 = association_rules(frequent_itemsets_2, metric=\"lift\", min_threshold=1.0, num_itemsets=10)\n",
    "print(rules_2)"
   ]
  },
  {
   "cell_type": "code",
   "execution_count": 16,
   "metadata": {},
   "outputs": [
    {
     "name": "stdout",
     "output_type": "stream",
     "text": [
      "     antecedents  consequents  antecedent support  consequent support  \\\n",
      "90        (Mint)  (Green Tea)                0.75                0.75   \n",
      "91   (Green Tea)       (Mint)                0.75                0.75   \n",
      "92        (Mint)  (Earl Grey)                0.75                0.75   \n",
      "93   (Earl Grey)       (Mint)                0.75                0.75   \n",
      "94  (Darjeeling)       (Mint)                0.75                0.75   \n",
      "\n",
      "    support  confidence      lift  representativity  leverage  conviction  \\\n",
      "90     0.75         1.0  1.333333               1.0    0.1875         inf   \n",
      "91     0.75         1.0  1.333333               1.0    0.1875         inf   \n",
      "92     0.75         1.0  1.333333               1.0    0.1875         inf   \n",
      "93     0.75         1.0  1.333333               1.0    0.1875         inf   \n",
      "94     0.75         1.0  1.333333               1.0    0.1875         inf   \n",
      "\n",
      "    zhangs_metric  jaccard  certainty  kulczynski  \n",
      "90            1.0      1.0        1.0         1.0  \n",
      "91            1.0      1.0        1.0         1.0  \n",
      "92            1.0      1.0        1.0         1.0  \n",
      "93            1.0      1.0        1.0         1.0  \n",
      "94            1.0      1.0        1.0         1.0  \n"
     ]
    }
   ],
   "source": [
    "\n",
    "rules_2 = rules_2.sort_values(['confidence', 'lift'], ascending=[False, False])\n",
    "\n",
    "print(rules_2.head())"
   ]
  },
  {
   "cell_type": "markdown",
   "metadata": {},
   "source": [
    "All the rules in the output have:  \n",
    "\n",
    "- **Confidence**: 1.0 – The antecedent always leads to the consequent.  \n",
    "- **Lift**: 1.333333 – The rule is more likely to occur than by chance.  \n",
    "- **Support**: 0.75 – 75% of transactions contain both the antecedent and consequent.  \n",
    "- **Leverage**: 0.1875 – The rule is moderately stronger than random chance.  \n",
    "- **Conviction**: Infinite – The antecedent strongly implies the consequent (common with confidence = 1.0).  "
   ]
  },
  {
   "cell_type": "code",
   "execution_count": 17,
   "metadata": {},
   "outputs": [
    {
     "data": {
      "image/png": "[encoded data removed]",
      "text/plain": [
       "<Figure size 1000x600 with 2 Axes>"
      ]
     },
     "metadata": {},
     "output_type": "display_data"
    }
   ],
   "source": [
    "# Select relevant columns for heatmap\n",
    "metrics = rules_2[['confidence', 'lift', 'support', 'leverage']]\n",
    "\n",
    "# Calculate the correlation matrix\n",
    "correlation_matrix = metrics.corr()\n",
    "\n",
    "# Plot the heatmap\n",
    "plt.figure(figsize=(10, 6))\n",
    "sns.heatmap(correlation_matrix, annot=True, cmap='coolwarm', fmt='.2f', linewidths=0.5)\n",
    "plt.title('Correlation Heatmap of Rule Metrics')\n",
    "plt.show()\n"
   ]
  },
  {
   "cell_type": "markdown",
   "metadata": {},
   "source": [
    "**Comaparing both algorithms**"
   ]
  },
  {
   "cell_type": "code",
   "execution_count": 18,
   "metadata": {},
   "outputs": [
    {
     "name": "stdout",
     "output_type": "stream",
     "text": [
      "Apriori Execution Time: 0.08346438407897949 seconds\n",
      "FP-Growth Execution Time: 0.06824231147766113 seconds\n"
     ]
    }
   ],
   "source": [
    "import time\n",
    "\n",
    "# Timing Apriori\n",
    "start = time.time()\n",
    "# Run Apriori algorithm\n",
    "frequent_itemsets_1 = apriori(basket_encoded, min_support=0.05, use_colnames=True)\n",
    "end = time.time()\n",
    "print(f\"Apriori Execution Time: {end - start} seconds\")\n",
    "\n",
    "# Timing FP-Growth\n",
    "start = time.time()\n",
    "# Run FP-Growth algorithm\n",
    "frequent_itemsets_2 = fpgrowth(basket_encoded, min_support=0.6, use_colnames=True)\n",
    "end = time.time()\n",
    "print(f\"FP-Growth Execution Time: {end - start} seconds\")\n"
   ]
  },
  {
   "cell_type": "markdown",
   "metadata": {},
   "source": [
    "**Metrics for Comparison**\n",
    "- Evaluate the rules generated by both algorithms using the following metrics:\n",
    "\n",
    "    - **Support**: Frequency of itemsets in the dataset.\n",
    "    - **Confidence**: Likelihood of consequents given antecedents.\n",
    "    - **Lift**: Strength of association (values >1 indicate a positive correlation).\n",
    "    - **Leverage**: Measures improvement over random co-occurrence.\n",
    "    - **Conviction**: Indicates the strength of implication (values >1 suggest strong rules)."
   ]
  },
  {
   "cell_type": "markdown",
   "metadata": {},
   "source": [
    "**Top Rules by Metrics**\n",
    "- Extract the top rules based on:\n",
    "    - **Confidence**: Choose rules with confidence close to 1.\n",
    "    - **Lift**: Higher lift values indicate stronger associations"
   ]
  },
  {
   "cell_type": "code",
   "execution_count": 19,
   "metadata": {},
   "outputs": [
    {
     "name": "stdout",
     "output_type": "stream",
     "text": [
      "Top Rules from Apriori:\n",
      "     antecedents   consequents  antecedent support  consequent support  \\\n",
      "6     (Amaretto)  (Darjeeling)                0.75                0.75   \n",
      "7   (Darjeeling)    (Amaretto)                0.75                0.75   \n",
      "12    (Amaretto)   (Earl Grey)                0.75                0.75   \n",
      "13   (Earl Grey)    (Amaretto)                0.75                0.75   \n",
      "14    (Amaretto)   (Green Tea)                0.75                0.75   \n",
      "\n",
      "    support  confidence      lift  representativity  leverage  conviction  \\\n",
      "6      0.75         1.0  1.333333               1.0    0.1875         inf   \n",
      "7      0.75         1.0  1.333333               1.0    0.1875         inf   \n",
      "12     0.75         1.0  1.333333               1.0    0.1875         inf   \n",
      "13     0.75         1.0  1.333333               1.0    0.1875         inf   \n",
      "14     0.75         1.0  1.333333               1.0    0.1875         inf   \n",
      "\n",
      "    zhangs_metric  jaccard  certainty  kulczynski  \n",
      "6             1.0      1.0        1.0         1.0  \n",
      "7             1.0      1.0        1.0         1.0  \n",
      "12            1.0      1.0        1.0         1.0  \n",
      "13            1.0      1.0        1.0         1.0  \n",
      "14            1.0      1.0        1.0         1.0  \n",
      "Top Rules from FP-Growth:\n",
      "     antecedents  consequents  antecedent support  consequent support  \\\n",
      "90        (Mint)  (Green Tea)                0.75                0.75   \n",
      "91   (Green Tea)       (Mint)                0.75                0.75   \n",
      "92        (Mint)  (Earl Grey)                0.75                0.75   \n",
      "93   (Earl Grey)       (Mint)                0.75                0.75   \n",
      "94  (Darjeeling)       (Mint)                0.75                0.75   \n",
      "\n",
      "    support  confidence      lift  representativity  leverage  conviction  \\\n",
      "90     0.75         1.0  1.333333               1.0    0.1875         inf   \n",
      "91     0.75         1.0  1.333333               1.0    0.1875         inf   \n",
      "92     0.75         1.0  1.333333               1.0    0.1875         inf   \n",
      "93     0.75         1.0  1.333333               1.0    0.1875         inf   \n",
      "94     0.75         1.0  1.333333               1.0    0.1875         inf   \n",
      "\n",
      "    zhangs_metric  jaccard  certainty  kulczynski  \n",
      "90            1.0      1.0        1.0         1.0  \n",
      "91            1.0      1.0        1.0         1.0  \n",
      "92            1.0      1.0        1.0         1.0  \n",
      "93            1.0      1.0        1.0         1.0  \n",
      "94            1.0      1.0        1.0         1.0  \n"
     ]
    }
   ],
   "source": [
    "# Sort and display top rules\n",
    "apriori_rules = rules_1.sort_values(['confidence', 'lift'], ascending=False)\n",
    "fp_growth_rules = rules_2.sort_values(['confidence', 'lift'], ascending=False)\n",
    "\n",
    "print(\"Top Rules from Apriori:\")\n",
    "print(apriori_rules.head())\n",
    "\n",
    "print(\"Top Rules from FP-Growth:\")\n",
    "print(fp_growth_rules.head())\n"
   ]
  },
  {
   "cell_type": "code",
   "execution_count": 20,
   "metadata": {},
   "outputs": [
    {
     "name": "stdout",
     "output_type": "stream",
     "text": [
      "Number of rules generated by Apriori: 828250\n",
      "Number of rules generated by FP-Growth: 173052\n"
     ]
    }
   ],
   "source": [
    "#  Count of Rules Generated\n",
    "print(f\"Number of rules generated by Apriori: {len(apriori_rules)}\")\n",
    "print(f\"Number of rules generated by FP-Growth: {len(fp_growth_rules)}\")\n"
   ]
  },
  {
   "cell_type": "markdown",
   "metadata": {},
   "source": [
    "**Quality Analysis**\n",
    "  - Create visualizations to compare the quality of rules:\n",
    "        - **Scatter Plot**: Visualize confidence vs lift for both algorithms.\n",
    "        - **Heatmap**: Correlation matrix of metrics for each algorithm.\n"
   ]
  },
  {
   "cell_type": "code",
   "execution_count": 21,
   "metadata": {},
   "outputs": [
    {
     "name": "stderr",
     "output_type": "stream",
     "text": [
      "C:\\Users\\Sadneya\\AppData\\Roaming\\Python\\Python312\\site-packages\\IPython\\core\\pylabtools.py:152: UserWarning: Creating legend with loc=\"best\" can be slow with large amounts of data.\n",
      "  fig.canvas.print_figure(bytes_io, **kw)\n"
     ]
    },
    {
     "data": {
      "image/png": "[encoded data removed]",
      "text/plain": [
       "<Figure size 1200x600 with 1 Axes>"
      ]
     },
     "metadata": {},
     "output_type": "display_data"
    }
   ],
   "source": [
    "# Scatter Plot for Confidence vs Lift\n",
    "plt.figure(figsize=(12, 6))\n",
    "plt.scatter(apriori_rules['confidence'], apriori_rules['lift'], label='Apriori', alpha=0.6, color='blue')\n",
    "plt.scatter(fp_growth_rules['confidence'], fp_growth_rules['lift'], label='FP-Growth', alpha=0.6, color='green')\n",
    "plt.xlabel('Confidence')\n",
    "plt.ylabel('Lift')\n",
    "plt.title('Confidence vs Lift: Apriori vs FP-Growth')\n",
    "plt.legend()\n",
    "plt.show()\n"
   ]
  },
  {
   "cell_type": "markdown",
   "metadata": {},
   "source": [
    "# Observations\n",
    "- **Execution Time**:\n",
    "    - **Apriori**: 0.0816 seconds\n",
    "    - **FP-Growth**: 0.0665 seconds\n",
    "    - **Conclusion**: FP-Growth is faster, especially as datasets scale, due to its efficient tree-based approach for mining frequent patterns without candidate generation.\n",
    "\n",
    "- **Number of Rules Generated**:\n",
    "    - **Apriori**: 828,250 rules\n",
    "    - **FP-Growth**: 173,052 rules\n",
    "    - **Conclusion**: FP-Growth generates significantly fewer rules, focusing on more concise and meaningful associations. Apriori can produce excessive rules, many of which may be redundant or less useful.\n",
    "    \n",
    "- **Top Rules Metrics (Confidence & Lift)**:\n",
    "    - Both algorithms produce rules with identical lift (1.3333).\n",
    "    - The confidence values show variability between the algorithms but are consistent for high-confidence rules (e.g., 1.0).\n",
    "    - **Conclusion**: Both algorithms identify strong associations, but FP-Growth might be more efficient in narrowing down high-quality rules.\n",
    "\n",
    "- **Visualization Insights (Confidence vs. Lift)**:\n",
    "    - The scatter plot shows a similar lift across rules for both algorithms.\n",
    "    - Confidence distribution may vary, with one algorithm possibly finding associations with slightly different confidence levels.\n",
    "    - **Conclusion**: When lift is the same, confidence variations indicate that certain associations may be found by one algorithm but not the other. This reflects differences in rule generation processes."
   ]
  }
 ],
 "metadata": {
  "kernelspec": {
   "display_name": "Python 3",
   "language": "python",
   "name": "python3"
  },
  "language_info": {
   "codemirror_mode": {
    "name": "ipython",
    "version": 3
   },
   "file_extension": ".py",
   "mimetype": "text/x-python",
   "name": "python",
   "nbconvert_exporter": "python",
   "pygments_lexer": "ipython3",
   "version": "3.12.3"
  }
 },
 "nbformat": 4,
 "nbformat_minor": 2
}
