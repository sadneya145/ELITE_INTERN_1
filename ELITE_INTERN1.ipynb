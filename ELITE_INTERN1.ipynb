{
 "cells": [
  {
   "cell_type": "code",
   "execution_count": 1,
   "metadata": {},
   "outputs": [],
   "source": [
    "import pandas as pd\n",
    "from mlxtend.frequent_patterns import apriori, association_rules, fpgrowth\n",
    "import matplotlib.pyplot as plt\n",
    "#importing libraries"
   ]
  },
  {
   "cell_type": "code",
   "execution_count": 2,
   "metadata": {},
   "outputs": [
    {
     "data": {
      "text/html": [
       "<div>\n",
       "<style scoped>\n",
       "    .dataframe tbody tr th:only-of-type {\n",
       "        vertical-align: middle;\n",
       "    }\n",
       "\n",
       "    .dataframe tbody tr th {\n",
       "        vertical-align: top;\n",
       "    }\n",
       "\n",
       "    .dataframe thead th {\n",
       "        text-align: right;\n",
       "    }\n",
       "</style>\n",
       "<table border=\"1\" class=\"dataframe\">\n",
       "  <thead>\n",
       "    <tr style=\"text-align: right;\">\n",
       "      <th></th>\n",
       "      <th>Area Code</th>\n",
       "      <th>State</th>\n",
       "      <th>Market</th>\n",
       "      <th>Market Size</th>\n",
       "      <th>Profit</th>\n",
       "      <th>Margin</th>\n",
       "      <th>Sales</th>\n",
       "      <th>COGS</th>\n",
       "      <th>Total Expenses</th>\n",
       "      <th>Marketing</th>\n",
       "      <th>Inventory</th>\n",
       "      <th>Budget Profit</th>\n",
       "      <th>Budget COGS</th>\n",
       "      <th>Budget Margin</th>\n",
       "      <th>Budget Sales</th>\n",
       "      <th>ProductId</th>\n",
       "      <th>Date</th>\n",
       "      <th>Product Type</th>\n",
       "      <th>Product</th>\n",
       "      <th>Type</th>\n",
       "    </tr>\n",
       "  </thead>\n",
       "  <tbody>\n",
       "    <tr>\n",
       "      <th>0</th>\n",
       "      <td>203</td>\n",
       "      <td>Connecticut</td>\n",
       "      <td>East</td>\n",
       "      <td>Small Market</td>\n",
       "      <td>107.0</td>\n",
       "      <td>176.0</td>\n",
       "      <td>292.0</td>\n",
       "      <td>116.0</td>\n",
       "      <td>69.0</td>\n",
       "      <td>38.0</td>\n",
       "      <td>962.0</td>\n",
       "      <td>110.0</td>\n",
       "      <td>110.0</td>\n",
       "      <td>160.0</td>\n",
       "      <td>270.0</td>\n",
       "      <td>2</td>\n",
       "      <td>04/01/10 00:00:00</td>\n",
       "      <td>Coffee</td>\n",
       "      <td>Columbian</td>\n",
       "      <td>Regular</td>\n",
       "    </tr>\n",
       "    <tr>\n",
       "      <th>1</th>\n",
       "      <td>203</td>\n",
       "      <td>Connecticut</td>\n",
       "      <td>East</td>\n",
       "      <td>Small Market</td>\n",
       "      <td>75.0</td>\n",
       "      <td>135.0</td>\n",
       "      <td>225.0</td>\n",
       "      <td>90.0</td>\n",
       "      <td>60.0</td>\n",
       "      <td>29.0</td>\n",
       "      <td>1148.0</td>\n",
       "      <td>90.0</td>\n",
       "      <td>80.0</td>\n",
       "      <td>130.0</td>\n",
       "      <td>210.0</td>\n",
       "      <td>2</td>\n",
       "      <td>07/01/10 00:00:00</td>\n",
       "      <td>Coffee</td>\n",
       "      <td>Columbian</td>\n",
       "      <td>Regular</td>\n",
       "    </tr>\n",
       "    <tr>\n",
       "      <th>2</th>\n",
       "      <td>203</td>\n",
       "      <td>Connecticut</td>\n",
       "      <td>East</td>\n",
       "      <td>Small Market</td>\n",
       "      <td>122.0</td>\n",
       "      <td>195.0</td>\n",
       "      <td>325.0</td>\n",
       "      <td>130.0</td>\n",
       "      <td>73.0</td>\n",
       "      <td>42.0</td>\n",
       "      <td>1134.0</td>\n",
       "      <td>130.0</td>\n",
       "      <td>110.0</td>\n",
       "      <td>180.0</td>\n",
       "      <td>290.0</td>\n",
       "      <td>2</td>\n",
       "      <td>11/01/10 00:00:00</td>\n",
       "      <td>Coffee</td>\n",
       "      <td>Columbian</td>\n",
       "      <td>Regular</td>\n",
       "    </tr>\n",
       "    <tr>\n",
       "      <th>3</th>\n",
       "      <td>203</td>\n",
       "      <td>Connecticut</td>\n",
       "      <td>East</td>\n",
       "      <td>Small Market</td>\n",
       "      <td>105.0</td>\n",
       "      <td>174.0</td>\n",
       "      <td>289.0</td>\n",
       "      <td>115.0</td>\n",
       "      <td>69.0</td>\n",
       "      <td>37.0</td>\n",
       "      <td>1166.0</td>\n",
       "      <td>110.0</td>\n",
       "      <td>100.0</td>\n",
       "      <td>160.0</td>\n",
       "      <td>260.0</td>\n",
       "      <td>2</td>\n",
       "      <td>12/01/10 00:00:00</td>\n",
       "      <td>Coffee</td>\n",
       "      <td>Columbian</td>\n",
       "      <td>Regular</td>\n",
       "    </tr>\n",
       "    <tr>\n",
       "      <th>4</th>\n",
       "      <td>203</td>\n",
       "      <td>Connecticut</td>\n",
       "      <td>East</td>\n",
       "      <td>Small Market</td>\n",
       "      <td>104.0</td>\n",
       "      <td>135.0</td>\n",
       "      <td>223.0</td>\n",
       "      <td>90.0</td>\n",
       "      <td>56.0</td>\n",
       "      <td>29.0</td>\n",
       "      <td>1148.0</td>\n",
       "      <td>90.0</td>\n",
       "      <td>80.0</td>\n",
       "      <td>130.0</td>\n",
       "      <td>210.0</td>\n",
       "      <td>2</td>\n",
       "      <td>07/01/11 00:00:00</td>\n",
       "      <td>Coffee</td>\n",
       "      <td>Columbian</td>\n",
       "      <td>Regular</td>\n",
       "    </tr>\n",
       "  </tbody>\n",
       "</table>\n",
       "</div>"
      ],
      "text/plain": [
       "   Area Code        State Market   Market Size  Profit  Margin  Sales   COGS  \\\n",
       "0        203  Connecticut   East  Small Market   107.0   176.0  292.0  116.0   \n",
       "1        203  Connecticut   East  Small Market    75.0   135.0  225.0   90.0   \n",
       "2        203  Connecticut   East  Small Market   122.0   195.0  325.0  130.0   \n",
       "3        203  Connecticut   East  Small Market   105.0   174.0  289.0  115.0   \n",
       "4        203  Connecticut   East  Small Market   104.0   135.0  223.0   90.0   \n",
       "\n",
       "   Total Expenses  Marketing  Inventory  Budget Profit  Budget COGS  \\\n",
       "0            69.0       38.0      962.0          110.0        110.0   \n",
       "1            60.0       29.0     1148.0           90.0         80.0   \n",
       "2            73.0       42.0     1134.0          130.0        110.0   \n",
       "3            69.0       37.0     1166.0          110.0        100.0   \n",
       "4            56.0       29.0     1148.0           90.0         80.0   \n",
       "\n",
       "   Budget Margin  Budget Sales  ProductId               Date Product Type  \\\n",
       "0          160.0         270.0          2  04/01/10 00:00:00       Coffee   \n",
       "1          130.0         210.0          2  07/01/10 00:00:00       Coffee   \n",
       "2          180.0         290.0          2  11/01/10 00:00:00       Coffee   \n",
       "3          160.0         260.0          2  12/01/10 00:00:00       Coffee   \n",
       "4          130.0         210.0          2  07/01/11 00:00:00       Coffee   \n",
       "\n",
       "     Product     Type  \n",
       "0  Columbian  Regular  \n",
       "1  Columbian  Regular  \n",
       "2  Columbian  Regular  \n",
       "3  Columbian  Regular  \n",
       "4  Columbian  Regular  "
      ]
     },
     "execution_count": 2,
     "metadata": {},
     "output_type": "execute_result"
    }
   ],
   "source": [
    "data= pd.read_csv('C:/Users/Sadneya/Downloads/sales.csv') #import dataset\n",
    "data.head()"
   ]
  },
  {
   "cell_type": "code",
   "execution_count": 3,
   "metadata": {},
   "outputs": [],
   "source": [
    "#convert to dataframe\n",
    "df = pd.DataFrame(data)"
   ]
  },
  {
   "cell_type": "code",
   "execution_count": 9,
   "metadata": {},
   "outputs": [
    {
     "data": {
      "text/html": [
       "<div>\n",
       "<style scoped>\n",
       "    .dataframe tbody tr th:only-of-type {\n",
       "        vertical-align: middle;\n",
       "    }\n",
       "\n",
       "    .dataframe tbody tr th {\n",
       "        vertical-align: top;\n",
       "    }\n",
       "\n",
       "    .dataframe thead th {\n",
       "        text-align: right;\n",
       "    }\n",
       "</style>\n",
       "<table border=\"1\" class=\"dataframe\">\n",
       "  <thead>\n",
       "    <tr style=\"text-align: right;\">\n",
       "      <th></th>\n",
       "      <th>Area Code</th>\n",
       "      <th>Profit</th>\n",
       "      <th>Margin</th>\n",
       "      <th>Sales</th>\n",
       "      <th>COGS</th>\n",
       "      <th>Total Expenses</th>\n",
       "      <th>Marketing</th>\n",
       "      <th>Inventory</th>\n",
       "      <th>Budget Profit</th>\n",
       "      <th>Budget COGS</th>\n",
       "      <th>Budget Margin</th>\n",
       "      <th>Budget Sales</th>\n",
       "      <th>ProductId</th>\n",
       "    </tr>\n",
       "  </thead>\n",
       "  <tbody>\n",
       "    <tr>\n",
       "      <th>count</th>\n",
       "      <td>4248.000000</td>\n",
       "      <td>4248.000000</td>\n",
       "      <td>4248.000000</td>\n",
       "      <td>4248.000000</td>\n",
       "      <td>4248.000000</td>\n",
       "      <td>4248.000000</td>\n",
       "      <td>4248.000000</td>\n",
       "      <td>4248.000000</td>\n",
       "      <td>4248.000000</td>\n",
       "      <td>4248.000000</td>\n",
       "      <td>4248.000000</td>\n",
       "      <td>4248.000000</td>\n",
       "      <td>4248.000000</td>\n",
       "    </tr>\n",
       "    <tr>\n",
       "      <th>mean</th>\n",
       "      <td>582.278013</td>\n",
       "      <td>61.097693</td>\n",
       "      <td>104.293315</td>\n",
       "      <td>192.987524</td>\n",
       "      <td>84.433145</td>\n",
       "      <td>54.063559</td>\n",
       "      <td>31.185028</td>\n",
       "      <td>749.381356</td>\n",
       "      <td>60.913371</td>\n",
       "      <td>74.830508</td>\n",
       "      <td>100.819209</td>\n",
       "      <td>175.649718</td>\n",
       "      <td>6.887006</td>\n",
       "    </tr>\n",
       "    <tr>\n",
       "      <th>std</th>\n",
       "      <td>221.140310</td>\n",
       "      <td>101.708546</td>\n",
       "      <td>94.342522</td>\n",
       "      <td>151.133127</td>\n",
       "      <td>67.249769</td>\n",
       "      <td>32.352598</td>\n",
       "      <td>27.023264</td>\n",
       "      <td>661.031896</td>\n",
       "      <td>79.546123</td>\n",
       "      <td>66.238145</td>\n",
       "      <td>92.602725</td>\n",
       "      <td>148.891522</td>\n",
       "      <td>3.664072</td>\n",
       "    </tr>\n",
       "    <tr>\n",
       "      <th>min</th>\n",
       "      <td>203.000000</td>\n",
       "      <td>-638.000000</td>\n",
       "      <td>-302.000000</td>\n",
       "      <td>17.000000</td>\n",
       "      <td>0.000000</td>\n",
       "      <td>10.000000</td>\n",
       "      <td>0.000000</td>\n",
       "      <td>-3534.000000</td>\n",
       "      <td>-320.000000</td>\n",
       "      <td>0.000000</td>\n",
       "      <td>-210.000000</td>\n",
       "      <td>0.000000</td>\n",
       "      <td>1.000000</td>\n",
       "    </tr>\n",
       "    <tr>\n",
       "      <th>25%</th>\n",
       "      <td>417.000000</td>\n",
       "      <td>17.000000</td>\n",
       "      <td>52.750000</td>\n",
       "      <td>100.000000</td>\n",
       "      <td>43.000000</td>\n",
       "      <td>33.000000</td>\n",
       "      <td>13.000000</td>\n",
       "      <td>432.000000</td>\n",
       "      <td>20.000000</td>\n",
       "      <td>30.000000</td>\n",
       "      <td>50.000000</td>\n",
       "      <td>80.000000</td>\n",
       "      <td>4.000000</td>\n",
       "    </tr>\n",
       "    <tr>\n",
       "      <th>50%</th>\n",
       "      <td>573.000000</td>\n",
       "      <td>40.000000</td>\n",
       "      <td>76.000000</td>\n",
       "      <td>138.000000</td>\n",
       "      <td>60.000000</td>\n",
       "      <td>46.000000</td>\n",
       "      <td>22.000000</td>\n",
       "      <td>619.000000</td>\n",
       "      <td>40.000000</td>\n",
       "      <td>50.000000</td>\n",
       "      <td>70.000000</td>\n",
       "      <td>130.000000</td>\n",
       "      <td>6.000000</td>\n",
       "    </tr>\n",
       "    <tr>\n",
       "      <th>75%</th>\n",
       "      <td>772.000000</td>\n",
       "      <td>92.000000</td>\n",
       "      <td>132.000000</td>\n",
       "      <td>230.000000</td>\n",
       "      <td>100.000000</td>\n",
       "      <td>65.000000</td>\n",
       "      <td>39.000000</td>\n",
       "      <td>910.500000</td>\n",
       "      <td>80.000000</td>\n",
       "      <td>90.000000</td>\n",
       "      <td>130.000000</td>\n",
       "      <td>210.000000</td>\n",
       "      <td>10.000000</td>\n",
       "    </tr>\n",
       "    <tr>\n",
       "      <th>max</th>\n",
       "      <td>985.000000</td>\n",
       "      <td>778.000000</td>\n",
       "      <td>613.000000</td>\n",
       "      <td>912.000000</td>\n",
       "      <td>364.000000</td>\n",
       "      <td>190.000000</td>\n",
       "      <td>156.000000</td>\n",
       "      <td>8252.000000</td>\n",
       "      <td>560.000000</td>\n",
       "      <td>450.000000</td>\n",
       "      <td>690.000000</td>\n",
       "      <td>1140.000000</td>\n",
       "      <td>13.000000</td>\n",
       "    </tr>\n",
       "  </tbody>\n",
       "</table>\n",
       "</div>"
      ],
      "text/plain": [
       "         Area Code       Profit       Margin        Sales         COGS  \\\n",
       "count  4248.000000  4248.000000  4248.000000  4248.000000  4248.000000   \n",
       "mean    582.278013    61.097693   104.293315   192.987524    84.433145   \n",
       "std     221.140310   101.708546    94.342522   151.133127    67.249769   \n",
       "min     203.000000  -638.000000  -302.000000    17.000000     0.000000   \n",
       "25%     417.000000    17.000000    52.750000   100.000000    43.000000   \n",
       "50%     573.000000    40.000000    76.000000   138.000000    60.000000   \n",
       "75%     772.000000    92.000000   132.000000   230.000000   100.000000   \n",
       "max     985.000000   778.000000   613.000000   912.000000   364.000000   \n",
       "\n",
       "       Total Expenses    Marketing    Inventory  Budget Profit  Budget COGS  \\\n",
       "count     4248.000000  4248.000000  4248.000000    4248.000000  4248.000000   \n",
       "mean        54.063559    31.185028   749.381356      60.913371    74.830508   \n",
       "std         32.352598    27.023264   661.031896      79.546123    66.238145   \n",
       "min         10.000000     0.000000 -3534.000000    -320.000000     0.000000   \n",
       "25%         33.000000    13.000000   432.000000      20.000000    30.000000   \n",
       "50%         46.000000    22.000000   619.000000      40.000000    50.000000   \n",
       "75%         65.000000    39.000000   910.500000      80.000000    90.000000   \n",
       "max        190.000000   156.000000  8252.000000     560.000000   450.000000   \n",
       "\n",
       "       Budget Margin  Budget Sales    ProductId  \n",
       "count    4248.000000   4248.000000  4248.000000  \n",
       "mean      100.819209    175.649718     6.887006  \n",
       "std        92.602725    148.891522     3.664072  \n",
       "min      -210.000000      0.000000     1.000000  \n",
       "25%        50.000000     80.000000     4.000000  \n",
       "50%        70.000000    130.000000     6.000000  \n",
       "75%       130.000000    210.000000    10.000000  \n",
       "max       690.000000   1140.000000    13.000000  "
      ]
     },
     "execution_count": 9,
     "metadata": {},
     "output_type": "execute_result"
    }
   ],
   "source": [
    "df.describe()"
   ]
  },
  {
   "cell_type": "code",
   "execution_count": 10,
   "metadata": {},
   "outputs": [
    {
     "name": "stdout",
     "output_type": "stream",
     "text": [
      "<class 'pandas.core.frame.DataFrame'>\n",
      "RangeIndex: 4248 entries, 0 to 4247\n",
      "Data columns (total 20 columns):\n",
      " #   Column          Non-Null Count  Dtype  \n",
      "---  ------          --------------  -----  \n",
      " 0   Area Code       4248 non-null   int64  \n",
      " 1   State           4248 non-null   object \n",
      " 2   Market          4248 non-null   object \n",
      " 3   Market Size     4248 non-null   object \n",
      " 4   Profit          4248 non-null   float64\n",
      " 5   Margin          4248 non-null   float64\n",
      " 6   Sales           4248 non-null   float64\n",
      " 7   COGS            4248 non-null   float64\n",
      " 8   Total Expenses  4248 non-null   float64\n",
      " 9   Marketing       4248 non-null   float64\n",
      " 10  Inventory       4248 non-null   float64\n",
      " 11  Budget Profit   4248 non-null   float64\n",
      " 12  Budget COGS     4248 non-null   float64\n",
      " 13  Budget Margin   4248 non-null   float64\n",
      " 14  Budget Sales    4248 non-null   float64\n",
      " 15  ProductId       4248 non-null   int64  \n",
      " 16  Date            4248 non-null   object \n",
      " 17  Product Type    4248 non-null   object \n",
      " 18  Product         4248 non-null   object \n",
      " 19  Type            4248 non-null   object \n",
      "dtypes: float64(11), int64(2), object(7)\n",
      "memory usage: 663.9+ KB\n"
     ]
    }
   ],
   "source": [
    "df.info()"
   ]
  },
  {
   "cell_type": "code",
   "execution_count": 4,
   "metadata": {},
   "outputs": [
    {
     "data": {
      "text/plain": [
       "Index(['Area Code', 'State', 'Market', 'Market Size', 'Profit', 'Margin',\n",
       "       'Sales', 'COGS', 'Total Expenses', 'Marketing', 'Inventory',\n",
       "       'Budget Profit', 'Budget COGS', 'Budget Margin', 'Budget Sales',\n",
       "       'ProductId', 'Date', 'Product Type', 'Product', 'Type'],\n",
       "      dtype='object')"
      ]
     },
     "execution_count": 4,
     "metadata": {},
     "output_type": "execute_result"
    }
   ],
   "source": [
    "# Exploring the columns of the data \n",
    "df.columns "
   ]
  },
  {
   "cell_type": "code",
   "execution_count": 5,
   "metadata": {},
   "outputs": [
    {
     "data": {
      "text/plain": [
       "array(['Connecticut', 'Washington', 'California', 'Texas', 'New York',\n",
       "       'Ohio', 'Illinois', 'Louisiana', 'Florida', 'Wisconsin',\n",
       "       'Colorado', 'Missouri', 'Iowa', 'Massachusetts', 'Oklahoma',\n",
       "       'Utah', 'Oregon', 'New Mexico', 'New Hampshire', 'Nevada'],\n",
       "      dtype=object)"
      ]
     },
     "execution_count": 5,
     "metadata": {},
     "output_type": "execute_result"
    }
   ],
   "source": [
    "# Exploring the different regions of transactions \n",
    "df.State.unique() "
   ]
  },
  {
   "cell_type": "code",
   "execution_count": 11,
   "metadata": {},
   "outputs": [],
   "source": [
    "# Group by 'Market' or another identifier to create transactions\n",
    "transactions = df.groupby('Market')['Product'].apply(list).reset_index()"
   ]
  },
  {
   "cell_type": "code",
   "execution_count": 12,
   "metadata": {},
   "outputs": [],
   "source": [
    "# Create a one-hot encoded DataFrame\n",
    "basket = pd.get_dummies(transactions['Product'].apply(pd.Series).stack()).groupby(level=0).sum()\n"
   ]
  },
  {
   "cell_type": "code",
   "execution_count": 13,
   "metadata": {},
   "outputs": [],
   "source": [
    "# Ensure all values are binary\n",
    "basket = basket.clip(upper=1)"
   ]
  },
  {
   "cell_type": "code",
   "execution_count": 14,
   "metadata": {},
   "outputs": [
    {
     "name": "stdout",
     "output_type": "stream",
     "text": [
      "\n",
      "One-Hot Encoded Basket (First 5 Rows):\n",
      "   Amaretto  Caffe Latte  Caffe Mocha  Chamomile  Columbian  Darjeeling  \\\n",
      "0         1            0            1          1          1           1   \n",
      "1         1            0            1          1          1           1   \n",
      "2         0            1            1          1          1           0   \n",
      "3         1            1            1          1          1           1   \n",
      "\n",
      "   Decaf Espresso  Decaf Irish Cream  Earl Grey  Green Tea  Lemon  Mint  \\\n",
      "0               1                  1          1          1      1     1   \n",
      "1               1                  1          1          1      1     1   \n",
      "2               1                  1          0          0      1     0   \n",
      "3               1                  1          1          1      1     1   \n",
      "\n",
      "   Regular Espresso  \n",
      "0                 0  \n",
      "1                 1  \n",
      "2                 0  \n",
      "3                 0  \n"
     ]
    }
   ],
   "source": [
    "# Check the DataFrame\n",
    "print(\"\\nOne-Hot Encoded Basket (First 5 Rows):\")\n",
    "print(basket.head())"
   ]
  },
  {
   "cell_type": "code",
   "execution_count": 19,
   "metadata": {},
   "outputs": [
    {
     "name": "stdout",
     "output_type": "stream",
     "text": [
      "\n",
      "Frequent Itemsets (Apriori):\n",
      "      support                                           itemsets\n",
      "0        0.75                                         (Amaretto)\n",
      "1        0.50                                      (Caffe Latte)\n",
      "2        1.00                                      (Caffe Mocha)\n",
      "3        1.00                                        (Chamomile)\n",
      "4        1.00                                        (Columbian)\n",
      "...       ...                                                ...\n",
      "6138     0.25  (Decaf Espresso, Decaf Irish Cream, Columbian,...\n",
      "6139     0.25  (Decaf Espresso, Decaf Irish Cream, Columbian,...\n",
      "6140     0.25  (Decaf Espresso, Decaf Irish Cream, Columbian,...\n",
      "6141     0.25  (Decaf Espresso, Decaf Irish Cream, Columbian,...\n",
      "6142     0.25  (Decaf Espresso, Decaf Irish Cream, Columbian,...\n",
      "\n",
      "[6143 rows x 2 columns]\n"
     ]
    },
    {
     "name": "stderr",
     "output_type": "stream",
     "text": [
      "c:\\Users\\Sadneya\\AppData\\Local\\Programs\\Python\\Python312\\Lib\\site-packages\\mlxtend\\frequent_patterns\\fpcommon.py:161: DeprecationWarning: DataFrames with non-bool types result in worse computationalperformance and their support might be discontinued in the future.Please use a DataFrame with bool type\n",
      "  warnings.warn(\n"
     ]
    }
   ],
   "source": [
    "# Apply the Apriori algorithm\n",
    "frequent_itemsets_apriori = apriori(basket, min_support=0.01, use_colnames=True)\n",
    "print(\"\\nFrequent Itemsets (Apriori):\")\n",
    "print(frequent_itemsets_apriori)"
   ]
  },
  {
   "cell_type": "code",
   "execution_count": 20,
   "metadata": {},
   "outputs": [
    {
     "name": "stderr",
     "output_type": "stream",
     "text": [
      "c:\\Users\\Sadneya\\AppData\\Local\\Programs\\Python\\Python312\\Lib\\site-packages\\mlxtend\\frequent_patterns\\association_rules.py:182: RuntimeWarning: invalid value encountered in divide\n",
      "  cert_metric = np.where(certainty_denom == 0, 0, certainty_num / certainty_denom)\n"
     ]
    },
    {
     "name": "stdout",
     "output_type": "stream",
     "text": [
      "\n",
      "Association Rules (Apriori):\n",
      "               antecedents                                        consequents  \\\n",
      "0            (Caffe Mocha)                                         (Amaretto)   \n",
      "1               (Amaretto)                                      (Caffe Mocha)   \n",
      "2               (Amaretto)                                        (Chamomile)   \n",
      "3              (Chamomile)                                         (Amaretto)   \n",
      "4               (Amaretto)                                        (Columbian)   \n",
      "...                    ...                                                ...   \n",
      "828245  (Regular Espresso)  (Decaf Espresso, Decaf Irish Cream, Columbian,...   \n",
      "828246         (Green Tea)  (Decaf Espresso, Decaf Irish Cream, Columbian,...   \n",
      "828247         (Chamomile)  (Decaf Espresso, Decaf Irish Cream, Columbian,...   \n",
      "828248          (Amaretto)  (Decaf Espresso, Decaf Irish Cream, Columbian,...   \n",
      "828249              (Mint)  (Decaf Espresso, Decaf Irish Cream, Columbian,...   \n",
      "\n",
      "        antecedent support  consequent support  support  confidence      lift  \\\n",
      "0                     1.00                0.75     0.75    0.750000  1.000000   \n",
      "1                     0.75                1.00     0.75    1.000000  1.000000   \n",
      "2                     0.75                1.00     0.75    1.000000  1.000000   \n",
      "3                     1.00                0.75     0.75    0.750000  1.000000   \n",
      "4                     0.75                1.00     0.75    1.000000  1.000000   \n",
      "...                    ...                 ...      ...         ...       ...   \n",
      "828245                0.25                0.75     0.25    1.000000  1.333333   \n",
      "828246                0.75                0.25     0.25    0.333333  1.333333   \n",
      "828247                1.00                0.25     0.25    0.250000  1.000000   \n",
      "828248                0.75                0.25     0.25    0.333333  1.333333   \n",
      "828249                0.75                0.25     0.25    0.333333  1.333333   \n",
      "\n",
      "        representativity  leverage  conviction  zhangs_metric   jaccard  \\\n",
      "0                    1.0    0.0000       1.000       0.000000  0.750000   \n",
      "1                    1.0    0.0000         inf       0.000000  0.750000   \n",
      "2                    1.0    0.0000         inf       0.000000  0.750000   \n",
      "3                    1.0    0.0000       1.000       0.000000  0.750000   \n",
      "4                    1.0    0.0000         inf       0.000000  0.750000   \n",
      "...                  ...       ...         ...            ...       ...   \n",
      "828245               1.0    0.0625         inf       0.333333  0.333333   \n",
      "828246               1.0    0.0625       1.125       1.000000  0.333333   \n",
      "828247               1.0    0.0000       1.000       0.000000  0.250000   \n",
      "828248               1.0    0.0625       1.125       1.000000  0.333333   \n",
      "828249               1.0    0.0625       1.125       1.000000  0.333333   \n",
      "\n",
      "        certainty  kulczynski  \n",
      "0        0.000000    0.875000  \n",
      "1        0.000000    0.875000  \n",
      "2        0.000000    0.875000  \n",
      "3        0.000000    0.875000  \n",
      "4        0.000000    0.875000  \n",
      "...           ...         ...  \n",
      "828245   1.000000    0.666667  \n",
      "828246   0.111111    0.666667  \n",
      "828247   0.000000    0.625000  \n",
      "828248   0.111111    0.666667  \n",
      "828249   0.111111    0.666667  \n",
      "\n",
      "[828250 rows x 14 columns]\n"
     ]
    }
   ],
   "source": [
    "# Ensure 'frequent_itemsets_apriori' has the 'support' column\n",
    "frequent_itemsets_apriori['num_itemsets'] = frequent_itemsets_apriori['support'] * len(basket)\n",
    "\n",
    "# Generate association rules\n",
    "rules_apriori = association_rules(frequent_itemsets_apriori, metric=\"lift\", min_threshold=1, num_itemsets=frequent_itemsets_apriori['num_itemsets'])\n",
    "print(\"\\nAssociation Rules (Apriori):\")\n",
    "print(rules_apriori)\n"
   ]
  },
  {
   "cell_type": "code",
   "execution_count": 25,
   "metadata": {},
   "outputs": [
    {
     "name": "stdout",
     "output_type": "stream",
     "text": [
      "\n",
      "Frequent Itemsets (FP-Growth):\n",
      "      support                                           itemsets\n",
      "0        1.00                                            (Lemon)\n",
      "1        1.00                                (Decaf Irish Cream)\n",
      "2        1.00                                   (Decaf Espresso)\n",
      "3        1.00                                        (Columbian)\n",
      "4        1.00                                        (Chamomile)\n",
      "...       ...                                                ...\n",
      "6138     0.25  (Decaf Irish Cream, Lemon, Columbian, Darjeeli...\n",
      "6139     0.25  (Decaf Espresso, Decaf Irish Cream, Lemon, Dar...\n",
      "6140     0.25  (Decaf Espresso, Decaf Irish Cream, Columbian,...\n",
      "6141     0.25  (Decaf Espresso, Decaf Irish Cream, Columbian,...\n",
      "6142     0.25  (Decaf Espresso, Decaf Irish Cream, Columbian,...\n",
      "\n",
      "[6143 rows x 2 columns]\n"
     ]
    },
    {
     "name": "stderr",
     "output_type": "stream",
     "text": [
      "c:\\Users\\Sadneya\\AppData\\Local\\Programs\\Python\\Python312\\Lib\\site-packages\\mlxtend\\frequent_patterns\\fpcommon.py:161: DeprecationWarning: DataFrames with non-bool types result in worse computationalperformance and their support might be discontinued in the future.Please use a DataFrame with bool type\n",
      "  warnings.warn(\n"
     ]
    }
   ],
   "source": [
    "# FP-Growth Algorithm\n",
    "frequent_itemsets_fpgrowth = fpgrowth(basket, min_support=0.01, use_colnames=True)\n",
    "print(\"\\nFrequent Itemsets (FP-Growth):\")\n",
    "print(frequent_itemsets_fpgrowth)"
   ]
  },
  {
   "cell_type": "code",
   "execution_count": 28,
   "metadata": {},
   "outputs": [
    {
     "name": "stdout",
     "output_type": "stream",
     "text": [
      "   support             itemsets\n",
      "0      1.0              (Lemon)\n",
      "1      1.0  (Decaf Irish Cream)\n",
      "2      1.0     (Decaf Espresso)\n",
      "3      1.0          (Columbian)\n",
      "4      1.0          (Chamomile)\n"
     ]
    }
   ],
   "source": [
    "print(frequent_itemsets_fpgrowth.head())\n"
   ]
  },
  {
   "cell_type": "code",
   "execution_count": 32,
   "metadata": {},
   "outputs": [
    {
     "name": "stdout",
     "output_type": "stream",
     "text": [
      "\n",
      "Association Rules (FP-Growth):\n",
      "                antecedents  \\\n",
      "0                   (Lemon)   \n",
      "1       (Decaf Irish Cream)   \n",
      "2       (Decaf Irish Cream)   \n",
      "3          (Decaf Espresso)   \n",
      "4                   (Lemon)   \n",
      "...                     ...   \n",
      "828245        (Caffe Mocha)   \n",
      "828246          (Green Tea)   \n",
      "828247          (Chamomile)   \n",
      "828248           (Amaretto)   \n",
      "828249               (Mint)   \n",
      "\n",
      "                                              consequents  antecedent support  \\\n",
      "0                                     (Decaf Irish Cream)                1.00   \n",
      "1                                                 (Lemon)                1.00   \n",
      "2                                        (Decaf Espresso)                1.00   \n",
      "3                                     (Decaf Irish Cream)                1.00   \n",
      "4                                        (Decaf Espresso)                1.00   \n",
      "...                                                   ...                 ...   \n",
      "828245  (Decaf Espresso, Decaf Irish Cream, Columbian,...                1.00   \n",
      "828246  (Decaf Espresso, Decaf Irish Cream, Columbian,...                0.75   \n",
      "828247  (Decaf Espresso, Decaf Irish Cream, Columbian,...                1.00   \n",
      "828248  (Decaf Espresso, Decaf Irish Cream, Columbian,...                0.75   \n",
      "828249  (Decaf Espresso, Decaf Irish Cream, Columbian,...                0.75   \n",
      "\n",
      "        consequent support  support  confidence      lift  representativity  \\\n",
      "0                     1.00     1.00    1.000000  1.000000               1.0   \n",
      "1                     1.00     1.00    1.000000  1.000000               1.0   \n",
      "2                     1.00     1.00    1.000000  1.000000               1.0   \n",
      "3                     1.00     1.00    1.000000  1.000000               1.0   \n",
      "4                     1.00     1.00    1.000000  1.000000               1.0   \n",
      "...                    ...      ...         ...       ...               ...   \n",
      "828245                0.25     0.25    0.250000  1.000000               1.0   \n",
      "828246                0.25     0.25    0.333333  1.333333               1.0   \n",
      "828247                0.25     0.25    0.250000  1.000000               1.0   \n",
      "828248                0.25     0.25    0.333333  1.333333               1.0   \n",
      "828249                0.25     0.25    0.333333  1.333333               1.0   \n",
      "\n",
      "        leverage  conviction  zhangs_metric   jaccard  certainty  kulczynski  \n",
      "0         0.0000         inf            0.0  1.000000   0.000000    1.000000  \n",
      "1         0.0000         inf            0.0  1.000000   0.000000    1.000000  \n",
      "2         0.0000         inf            0.0  1.000000   0.000000    1.000000  \n",
      "3         0.0000         inf            0.0  1.000000   0.000000    1.000000  \n",
      "4         0.0000         inf            0.0  1.000000   0.000000    1.000000  \n",
      "...          ...         ...            ...       ...        ...         ...  \n",
      "828245    0.0000       1.000            0.0  0.250000   0.000000    0.625000  \n",
      "828246    0.0625       1.125            1.0  0.333333   0.111111    0.666667  \n",
      "828247    0.0000       1.000            0.0  0.250000   0.000000    0.625000  \n",
      "828248    0.0625       1.125            1.0  0.333333   0.111111    0.666667  \n",
      "828249    0.0625       1.125            1.0  0.333333   0.111111    0.666667  \n",
      "\n",
      "[828250 rows x 14 columns]\n"
     ]
    },
    {
     "name": "stderr",
     "output_type": "stream",
     "text": [
      "c:\\Users\\Sadneya\\AppData\\Local\\Programs\\Python\\Python312\\Lib\\site-packages\\mlxtend\\frequent_patterns\\association_rules.py:182: RuntimeWarning: invalid value encountered in divide\n",
      "  cert_metric = np.where(certainty_denom == 0, 0, certainty_num / certainty_denom)\n"
     ]
    }
   ],
   "source": [
    "# Ensure 'frequent_itemsets_fpgrowth' has the 'support' column\n",
    "frequent_itemsets_fpgrowth['num_itemsets'] = frequent_itemsets_fpgrowth['support'] * len(basket)\n",
    "\n",
    "# Generate association rules for FP-Growth\n",
    "rules_fpgrowth = association_rules(frequent_itemsets_fpgrowth, metric=\"lift\", min_threshold=1, num_itemsets=frequent_itemsets_fpgrowth['num_itemsets'])\n",
    "print(\"\\nAssociation Rules (FP-Growth):\")\n",
    "print(rules_fpgrowth)\n"
   ]
  },
  {
   "cell_type": "code",
   "execution_count": 33,
   "metadata": {},
   "outputs": [
    {
     "name": "stdout",
     "output_type": "stream",
     "text": [
      "\n",
      "Comparison of Algorithms:\n",
      "Number of Itemsets - Apriori: 6143\n",
      "Number of Itemsets - FP-Growth: 6143\n"
     ]
    }
   ],
   "source": [
    "# Comparison\n",
    "print(\"\\nComparison of Algorithms:\")\n",
    "print(f\"Number of Itemsets - Apriori: {len(frequent_itemsets_apriori)}\")\n",
    "print(f\"Number of Itemsets - FP-Growth: {len(frequent_itemsets_fpgrowth)}\")"
   ]
  },
  {
   "cell_type": "code",
   "execution_count": 34,
   "metadata": {},
   "outputs": [],
   "source": [
    "import seaborn as sns"
   ]
  },
  {
   "cell_type": "code",
   "execution_count": 35,
   "metadata": {},
   "outputs": [
    {
     "name": "stderr",
     "output_type": "stream",
     "text": [
      "C:\\Users\\Sadneya\\AppData\\Local\\Temp\\ipykernel_11312\\1321044865.py:6: FutureWarning: \n",
      "\n",
      "Passing `palette` without assigning `hue` is deprecated and will be removed in v0.14.0. Assign the `x` variable to `hue` and set `legend=False` for the same effect.\n",
      "\n",
      "  sns.barplot(x=algorithms, y=itemsets_count, palette='viridis')\n"
     ]
    },
    {
     "data": {
      "image/png": "[encoded data removed]",
      "text/plain": [
       "<Figure size 800x600 with 1 Axes>"
      ]
     },
     "metadata": {},
     "output_type": "display_data"
    }
   ],
   "source": [
    "# Comparison of the number of itemsets between Apriori and FP-Growth\n",
    "algorithms = ['Apriori', 'FP-Growth']\n",
    "itemsets_count = [len(frequent_itemsets_apriori), len(frequent_itemsets_fpgrowth)]\n",
    "\n",
    "plt.figure(figsize=(8, 6))\n",
    "sns.barplot(x=algorithms, y=itemsets_count, palette='viridis')\n",
    "plt.title('Comparison of Number of Itemsets between Apriori and FP-Growth')\n",
    "plt.xlabel('Algorithm')\n",
    "plt.ylabel('Number of Itemsets')\n",
    "plt.show()\n"
   ]
  },
  {
   "cell_type": "code",
   "execution_count": 41,
   "metadata": {},
   "outputs": [
    {
     "name": "stderr",
     "output_type": "stream",
     "text": [
      "C:\\Users\\Sadneya\\AppData\\Local\\Temp\\ipykernel_11312\\3858727414.py:5: FutureWarning: \n",
      "\n",
      "`shade` is now deprecated in favor of `fill`; setting `fill=True`.\n",
      "This will become an error in seaborn v0.14.0; please update your code.\n",
      "\n",
      "  sns.kdeplot(rules_apriori['lift'], label='Apriori Lift', shade=True, color='blue')\n",
      "C:\\Users\\Sadneya\\AppData\\Local\\Temp\\ipykernel_11312\\3858727414.py:8: FutureWarning: \n",
      "\n",
      "`shade` is now deprecated in favor of `fill`; setting `fill=True`.\n",
      "This will become an error in seaborn v0.14.0; please update your code.\n",
      "\n",
      "  sns.kdeplot(rules_fpgrowth['lift']+0.1, label='FP-Growth Lift', shade=True, color='red')\n"
     ]
    },
    {
     "data": {
      "image/png": "[encoded data removed]",
      "text/plain": [
       "<Figure size 1000x600 with 1 Axes>"
      ]
     },
     "metadata": {},
     "output_type": "display_data"
    }
   ],
   "source": [
    "# Plot the lift of association rules for both algorithms\n",
    "plt.figure(figsize=(10, 6))\n",
    "\n",
    "# Apriori\n",
    "sns.kdeplot(rules_apriori['lift'], label='Apriori Lift', shade=True, color='blue')\n",
    "\n",
    "# FP-Growth\n",
    "sns.kdeplot(rules_fpgrowth['lift']+0.1, label='FP-Growth Lift', shade=True, color='red')\n",
    "\n",
    "plt.title('Lift Distribution of Association Rules: Apriori vs. FP-Growth')\n",
    "plt.xlabel('Lift')\n",
    "plt.ylabel('Density')\n",
    "plt.legend()\n",
    "plt.show()\n"
   ]
  },
  {
   "cell_type": "code",
   "execution_count": 37,
   "metadata": {},
   "outputs": [
    {
     "data": {
      "image/png": "[encoded data removed]",
      "text/plain": [
       "<Figure size 1200x800 with 2 Axes>"
      ]
     },
     "metadata": {},
     "output_type": "display_data"
    }
   ],
   "source": [
    "# Support vs Confidence plot for Apriori\n",
    "plt.figure(figsize=(12, 8))\n",
    "\n",
    "plt.subplot(1, 2, 1)\n",
    "sns.scatterplot(x=rules_apriori['support'], y=rules_apriori['confidence'], color='blue', alpha=0.5)\n",
    "plt.title('Support vs Confidence (Apriori)')\n",
    "plt.xlabel('Support')\n",
    "plt.ylabel('Confidence')\n",
    "\n",
    "# Support vs Confidence plot for FP-Growth\n",
    "plt.subplot(1, 2, 2)\n",
    "sns.scatterplot(x=rules_fpgrowth['support'], y=rules_fpgrowth['confidence'], color='green', alpha=0.5)\n",
    "plt.title('Support vs Confidence (FP-Growth)')\n",
    "plt.xlabel('Support')\n",
    "plt.ylabel('Confidence')\n",
    "\n",
    "plt.tight_layout()\n",
    "plt.show()\n"
   ]
  }
 ],
 "metadata": {
  "kernelspec": {
   "display_name": "Python 3",
   "language": "python",
   "name": "python3"
  },
  "language_info": {
   "codemirror_mode": {
    "name": "ipython",
    "version": 3
   },
   "file_extension": ".py",
   "mimetype": "text/x-python",
   "name": "python",
   "nbconvert_exporter": "python",
   "pygments_lexer": "ipython3",
   "version": "3.12.3"
  }
 },
 "nbformat": 4,
 "nbformat_minor": 2
}
